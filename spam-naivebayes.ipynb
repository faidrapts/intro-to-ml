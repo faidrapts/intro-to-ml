{
 "cells": [
  {
   "cell_type": "code",
   "execution_count": 1,
   "id": "a23dc3bb",
   "metadata": {},
   "outputs": [
    {
     "name": "stdout",
     "output_type": "stream",
     "text": [
      "(4601, 57)\n"
     ]
    }
   ],
   "source": [
    "import numpy as np\n",
    "from collections import Counter\n",
    "import sklearn.naive_bayes\n",
    "from sklearn.metrics import accuracy_score\n",
    "\n",
    "spambase = np.loadtxt('spambase.data' , delimiter = ',')\n",
    "\n",
    "# X is n x d, with n = 4601 and d = 57\n",
    "X = spambase[ : , : -1]\n",
    "y = spambase[ : , -1].astype(int)\n",
    "print(np.shape(X))"
   ]
  },
  {
   "cell_type": "code",
   "execution_count": 2,
   "id": "76e1ee10",
   "metadata": {},
   "outputs": [],
   "source": [
    "# shuffling the data and splitting into training and test set\n",
    "X_y = spambase[:,:]\n",
    "np.random.shuffle(X_y)\n",
    "\n",
    "X_shuffled = X_y[:,:-1]\n",
    "y_shuffled = X_y[:,-1].astype(int)\n",
    "\n",
    "n_train = 2000\n",
    "X_train = X_shuffled[:n_train, :]\n",
    "X_test = X_shuffled[n_train:, :]"
   ]
  },
  {
   "cell_type": "code",
   "execution_count": 3,
   "id": "132c9e60",
   "metadata": {},
   "outputs": [],
   "source": [
    "# Quantization of feature variables\n",
    "median = []\n",
    "median = np.median(X_train,0)\n",
    "\n",
    "for j in range(0,X_train.shape[1]):\n",
    "    X_train[:,j] = (X_train[:,j] > median[j]).astype(int)\n",
    "    X_test[:,j] = (X_test[:,j] > median[j]).astype(int)"
   ]
  },
  {
   "cell_type": "code",
   "execution_count": 4,
   "id": "4fefaaa4",
   "metadata": {},
   "outputs": [
    {
     "name": "stdout",
     "output_type": "stream",
     "text": [
      "Probability of spam mail: 0.398\n"
     ]
    },
    {
     "data": {
      "text/plain": [
       "BernoulliNB()"
      ]
     },
     "execution_count": 4,
     "metadata": {},
     "output_type": "execute_result"
    }
   ],
   "source": [
    "# Fitting the Naive Bayes model using scikit-learn\n",
    "c = Counter(y_shuffled[:n_train])\n",
    "p_y = c[1]/len(y_shuffled[:n_train])\n",
    "print('Probability of spam mail:', p_y)\n",
    "\n",
    "naive_bayes = sklearn.naive_bayes.BernoulliNB()\n",
    "naive_bayes.fit(X_train,y_shuffled[:n_train])"
   ]
  },
  {
   "cell_type": "code",
   "execution_count": 5,
   "id": "9f4c1890",
   "metadata": {},
   "outputs": [
    {
     "name": "stdout",
     "output_type": "stream",
     "text": [
      "Accuracy score: 0.8981161091887736\n"
     ]
    }
   ],
   "source": [
    "classification = naive_bayes.predict(X_test)\n",
    "print('Accuracy score:',accuracy_score(classification,y_shuffled[n_train:]))"
   ]
  },
  {
   "cell_type": "code",
   "execution_count": 6,
   "id": "b53ed73e",
   "metadata": {},
   "outputs": [
    {
     "name": "stdout",
     "output_type": "stream",
     "text": [
      "Test error: 0.10188389081122645\n"
     ]
    }
   ],
   "source": [
    "test_error = 1/len(classification)*sum((classification-y_shuffled[n_train:])**2)\n",
    "print('Test error:',test_error)"
   ]
  },
  {
   "cell_type": "markdown",
   "id": "5e6d65a3",
   "metadata": {},
   "source": [
    "2. The majority class from the training data is 0 (not spam), since P(y=1) = ~0.4 as computed above.\n",
    "If we predicted the label 0 for all examples in the test set, we would get the following test error:"
   ]
  },
  {
   "cell_type": "code",
   "execution_count": 7,
   "id": "7be40bb2",
   "metadata": {},
   "outputs": [
    {
     "name": "stdout",
     "output_type": "stream",
     "text": [
      "Majority class error: 0.39100346020761245\n"
     ]
    }
   ],
   "source": [
    "not_spam = np.zeros((np.shape(classification)))\n",
    "print('Majority class error:',1-accuracy_score(not_spam,y_shuffled[n_train:]))"
   ]
  }
 ],
 "metadata": {
  "kernelspec": {
   "display_name": "Python 3 (ipykernel)",
   "language": "python",
   "name": "python3"
  },
  "language_info": {
   "codemirror_mode": {
    "name": "ipython",
    "version": 3
   },
   "file_extension": ".py",
   "mimetype": "text/x-python",
   "name": "python",
   "nbconvert_exporter": "python",
   "pygments_lexer": "ipython3",
   "version": "3.6.13"
  }
 },
 "nbformat": 4,
 "nbformat_minor": 5
}
