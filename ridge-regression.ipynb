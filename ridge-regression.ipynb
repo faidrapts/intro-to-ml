{
 "cells": [
  {
   "cell_type": "code",
   "execution_count": 1,
   "id": "443adf06",
   "metadata": {},
   "outputs": [
    {
     "name": "stdout",
     "output_type": "stream",
     "text": [
      "[[315.  81.   7. ...  43.  10.   1.]\n",
      " [479. 130.  18. ...  82.  14.   0.]\n",
      " [496. 141.  20. ...  11.   3.   1.]\n",
      " ...\n",
      " [475. 126.   3. ... 113.   7.   0.]\n",
      " [573. 144.   9. ... 131.  12.   0.]\n",
      " [631. 170.   9. ...   4.   3.   0.]]\n"
     ]
    }
   ],
   "source": [
    "%matplotlib inline\n",
    "\n",
    "import csv\n",
    "import numpy as np\n",
    "from matplotlib import pyplot as plt\n",
    "from sklearn import preprocessing\n",
    "\n",
    "# load feature variables and their names\n",
    "X = np.loadtxt('hitters.x.csv', delimiter = ',', skiprows = 1)\n",
    "with open('hitters.x.csv','r') as f:\n",
    "        X_colnames = next(csv.reader(f))\n",
    "print(X)\n",
    "        \n",
    "# load salaries\n",
    "y = np.loadtxt('hitters.y.csv',delimiter = ',', skiprows = 1)"
   ]
  },
  {
   "cell_type": "markdown",
   "id": "824b8620",
   "metadata": {},
   "source": [
    "1. Scaling the feature variables to a standard deviation of 1 is appropriate in this application, since we are trying to predict  salaries of baseball players and the given data may include some instances of too high or too low salaries."
   ]
  },
  {
   "cell_type": "code",
   "execution_count": 2,
   "id": "86c3525e",
   "metadata": {},
   "outputs": [
    {
     "name": "stdout",
     "output_type": "stream",
     "text": [
      "[[-0.6029005  -0.59567545 -0.5285512  ... -0.52319133  0.21335208\n",
      "   1.07505242]\n",
      " [ 0.51254171  0.49225957  0.72996619 ... -0.25386267  0.81996395\n",
      "  -0.9301872 ]\n",
      " [ 0.62816682  0.73648988  0.95878753 ... -0.74417894 -0.84821868\n",
      "   1.07505242]\n",
      " ...\n",
      " [ 0.48533581  0.40344855 -0.98619389 ... -0.03978092 -0.24160682\n",
      "  -0.9301872 ]\n",
      " [ 1.15188054  0.80309815 -0.29972986 ...  0.08452461  0.51665801\n",
      "  -0.9301872 ]\n",
      " [ 1.54636621  1.38036979 -0.29972986 ... -0.79251998 -0.84821868\n",
      "  -0.9301872 ]]\n"
     ]
    }
   ],
   "source": [
    "scale = preprocessing.StandardScaler().fit(X)\n",
    "X_scaled = scale.transform(X)\n",
    "print(X_scaled)"
   ]
  },
  {
   "cell_type": "markdown",
   "id": "a38ba031",
   "metadata": {},
   "source": [
    "2. Augmented data matrix $\\tilde{X} = [1 \\space X]$\n",
    "$\\newline$  Let $\\space\\tilde{\\theta}^T = [1 \\space {\\theta}]^T$"
   ]
  },
  {
   "cell_type": "markdown",
   "id": "58cd44c6",
   "metadata": {},
   "source": [
    "Ridge regression not including the bias weight in the ${l}_2$ norm penalty:\n",
    "$\\newline \\hat{\\theta}_{ridge} = argmin\\space|| y - \\tilde{X}\\tilde{\\theta}||_2^2 + {\\lambda}||{\\theta}||_2^2$\n",
    "See notes in PDF above."
   ]
  },
  {
   "cell_type": "code",
   "execution_count": 3,
   "id": "7fc300c4",
   "metadata": {},
   "outputs": [
    {
     "name": "stdout",
     "output_type": "stream",
     "text": [
      "263 19\n",
      "[[ 1.         -0.6029005  -0.59567545 ... -0.52319133  0.21335208\n",
      "   1.07505242]\n",
      " [ 1.          0.51254171  0.49225957 ... -0.25386267  0.81996395\n",
      "  -0.9301872 ]\n",
      " [ 1.          0.62816682  0.73648988 ... -0.74417894 -0.84821868\n",
      "   1.07505242]\n",
      " ...\n",
      " [ 1.          0.48533581  0.40344855 ... -0.03978092 -0.24160682\n",
      "  -0.9301872 ]\n",
      " [ 1.          1.15188054  0.80309815 ...  0.08452461  0.51665801\n",
      "  -0.9301872 ]\n",
      " [ 1.          1.54636621  1.38036979 ... -0.79251998 -0.84821868\n",
      "  -0.9301872 ]]\n"
     ]
    }
   ],
   "source": [
    "n,d = X_scaled.shape\n",
    "print(n,d)\n",
    "one = np.ones((n,1))\n",
    "X_tilde = np.hstack((one,X_scaled))\n",
    "print(X_tilde)\n",
    "\n",
    "lambdas = np.logspace(-3, 7, 100)\n",
    "I = np.identity(d+1)\n",
    "I[0] = 0"
   ]
  },
  {
   "cell_type": "code",
   "execution_count": 4,
   "id": "2e10c5bd",
   "metadata": {},
   "outputs": [],
   "source": [
    "def compute_thetatilde(X,y,lmbda):\n",
    "    G_inv = np.linalg.inv(np.dot(np.transpose(X),X)+np.dot(lmbda,I))\n",
    "    theta_tilde = np.dot(G_inv,np.dot(np.transpose(X),y))\n",
    "    return theta_tilde"
   ]
  },
  {
   "cell_type": "code",
   "execution_count": 5,
   "id": "520feb6e",
   "metadata": {},
   "outputs": [
    {
     "data": {
      "image/png": "[encoded data removed]",
      "text/plain": [
       "<Figure size 432x288 with 1 Axes>"
      ]
     },
     "metadata": {
      "needs_background": "light"
     },
     "output_type": "display_data"
    }
   ],
   "source": [
    "thetatilde = np.array([compute_thetatilde(X_tilde,y,lam) for lam in lambdas])\n",
    "norm_theta = np.sqrt((thetatilde[:, 1:]**2).sum(1))\n",
    "\n",
    "plt.loglog(lambdas,norm_theta, 'pink')\n",
    "plt.ylabel(r'$||\\tilde{\\theta}_{ridge}||_2$')\n",
    "plt.xlabel(r'${\\lambda}$')\n",
    "plt.title('Penalty term versus regularization parameter')\n",
    "plt.show()"
   ]
  },
  {
   "cell_type": "markdown",
   "id": "6ea7d345",
   "metadata": {},
   "source": [
    "Comparing with the least squares estimate for a very small value of ${\\lambda}$ and verifying the components for a very large value of ${\\lambda}$:"
   ]
  },
  {
   "cell_type": "code",
   "execution_count": 6,
   "id": "9b2b21dd",
   "metadata": {},
   "outputs": [
    {
     "name": "stdout",
     "output_type": "stream",
     "text": [
      "\n",
      "Least squares estimate: [-291.09462584  337.83057573   37.85384355  -60.57253276  -26.99496538\n",
      "  135.07394623  -16.69329665 -391.03867469   86.68713265  -14.18188514\n",
      "  480.74772158  260.69007975 -213.8924465    31.24874897  -58.41399362\n",
      "   78.76122932   53.73244107  -22.16080176  -12.34882979]\n",
      "Ridge regression estimate: [-291.07689885  337.76983981   37.817637    -60.51643708  -26.96167438\n",
      "  135.05922913  -16.72927386 -390.81338172   86.882135    -14.05166346\n",
      "  480.42919877  260.45660149 -213.84040958   31.24937094  -58.4169906\n",
      "   78.76124192   53.72488332  -22.16403075  -12.35251465]\n",
      "\n",
      "Difference: [-1.77269975e-02  6.07359232e-02  3.62065513e-02 -5.60956785e-02\n",
      " -3.32910000e-02  1.47171011e-02  3.59772122e-02 -2.25292967e-01\n",
      " -1.95002344e-01 -1.30221672e-01  3.18522812e-01  2.33478259e-01\n",
      " -5.20369133e-02 -6.21975493e-04  2.99697362e-03 -1.26048120e-05\n",
      "  7.55775105e-03  3.22899183e-03  3.68485864e-03]\n",
      "\n",
      "\n",
      "Frobenius norm of the difference of the two estimates: 0.5249644874821094\n",
      "\n",
      "Ridge regression estimate for a large value of lambda (except the intercept/first value):\n",
      " [ 5.89755721e-03  6.55361399e-03  5.12442584e-03  6.27243838e-03\n",
      "  6.71452515e-03  6.63116691e-03  5.98526192e-03  7.85991606e-03\n",
      "  8.20021726e-03  7.84196639e-03  8.40590164e-03  8.46996250e-03\n",
      "  7.31737697e-03 -2.13125290e-04 -2.87643848e-03  4.48937290e-03\n",
      "  3.80025563e-04 -8.07305681e-05 -4.21564448e-05]\n"
     ]
    }
   ],
   "source": [
    "T_inv =  np.linalg.inv(np.dot(np.transpose(X_scaled),X_scaled))\n",
    "theta_leastsquares = np.dot(T_inv,np.dot(np.transpose(X_scaled),y))\n",
    "theta_l0 = compute_thetatilde(X_tilde,y,lambdas[0])\n",
    "np.delete(theta_l0,0)\n",
    "\n",
    "print('\\nLeast squares estimate:',theta_leastsquares)\n",
    "print('Ridge regression estimate:', theta_l0[1:])\n",
    "print('\\nDifference:', theta_leastsquares-theta_l0[1:])\n",
    "print('\\n')\n",
    "print('Frobenius norm of the difference of the two estimates:', np.linalg.norm(theta_leastsquares-theta_l0[1:]))\n",
    "\n",
    "print('\\nRidge regression estimate for a large value of lambda\\\n",
    " (except the intercept/first value):\\n', compute_thetatilde(X_tilde,y,lambdas[98])[1:])"
   ]
  }
 ],
 "metadata": {
  "kernelspec": {
   "display_name": "Python 3 (ipykernel)",
   "language": "python",
   "name": "python3"
  },
  "language_info": {
   "codemirror_mode": {
    "name": "ipython",
    "version": 3
   },
   "file_extension": ".py",
   "mimetype": "text/x-python",
   "name": "python",
   "nbconvert_exporter": "python",
   "pygments_lexer": "ipython3",
   "version": "3.6.13"
  }
 },
 "nbformat": 4,
 "nbformat_minor": 5
}
