{
 "cells": [
  {
   "cell_type": "code",
   "execution_count": 1,
   "id": "b24d9588",
   "metadata": {},
   "outputs": [
    {
     "name": "stdout",
     "output_type": "stream",
     "text": [
      "[[ 0.2182 -0.1082]\n",
      " [ 1.1417 -0.5179]\n",
      " [ 0.3402 -0.0356]\n",
      " ...\n",
      " [ 0.965  -0.0342]\n",
      " [ 0.7432 -0.6251]\n",
      " [-1.1497  0.2339]]\n",
      "999\n",
      "2.6537\n",
      "-1.5041\n"
     ]
    }
   ],
   "source": [
    "%matplotlib inline\n",
    "\n",
    "import csv\n",
    "import numpy as np\n",
    "from matplotlib import pyplot as plt\n",
    "from sklearn import preprocessing\n",
    "from scipy.optimize import minimize\n",
    "\n",
    "# load feature variables\n",
    "X = np.loadtxt('moons.x.csv', delimiter = ',', skiprows = 1)\n",
    "print(X)\n",
    "print(np.shape(X)[0])\n",
    "print(np.max(X))\n",
    "print(np.min(X))\n",
    "        \n",
    "# load labels\n",
    "y = np.loadtxt('moons.y.csv',delimiter = ',', skiprows = 1)\n",
    "\n",
    "# split data into training set and test set (80-20 split)\n",
    "X_tr = X[:799,:]\n",
    "y_tr = y[:799]\n",
    "X_test = X[799:,:]\n",
    "y_test = y[799:]"
   ]
  },
  {
   "cell_type": "raw",
   "id": "b37f7ab8",
   "metadata": {},
   "source": [
    "Decision stump weak learner implementation "
   ]
  },
  {
   "cell_type": "code",
   "execution_count": 2,
   "id": "30aa1108",
   "metadata": {},
   "outputs": [],
   "source": [
    "def decision_stump_weak_learner(s,params):\n",
    "    \n",
    "    j, p, X_train, y_train = params;\n",
    "    #if round(sum(p))!=1 or any(p)<0:\n",
    "    #    return \"error\"\n",
    "    \n",
    "    fi_x = np.zeros(np.shape(X_train)[0])\n",
    "    \n",
    "    for k in range(j):\n",
    "        for i in range(np.shape(X_train)[0]):\n",
    "            if X_train[i,k]<s:\n",
    "                fi_x[i] = -1\n",
    "            else:\n",
    "                fi_x[i] = 1\n",
    "        \n",
    "    return sum(p*1/2*abs(fi_x-y_train))"
   ]
  },
  {
   "cell_type": "code",
   "execution_count": 3,
   "id": "f2d182a7",
   "metadata": {},
   "outputs": [],
   "source": [
    "# stub p with a uniform distribution to test function\n",
    "p=np.zeros(np.shape(X_tr)[0])\n",
    "for i in range(799):\n",
    "    p[i]=1/799\n",
    "\n",
    "# minimizing over the function with s and j as parameters and providing an assumption of the minimizers\n",
    "prms1 = [1, p, X_tr, y_tr]\n",
    "prms2 = [2, p, X_tr, y_tr]\n",
    "min_rslt_1 = minimize(decision_stump_weak_learner, np.mean(X_tr),args=prms1,method='Nelder-Mead')\n",
    "min_rslt_2 = minimize(decision_stump_weak_learner, np.mean(X_tr),args=prms2,method='Nelder-Mead')"
   ]
  },
  {
   "cell_type": "code",
   "execution_count": 4,
   "id": "ddde4010",
   "metadata": {},
   "outputs": [
    {
     "name": "stdout",
     "output_type": "stream",
     "text": [
      "For j=1: 0.28785982478097544\n",
      "Optimal s: [0.25669594]\n",
      "Validation: 0.28785982478097544\n"
     ]
    }
   ],
   "source": [
    "print(\"For j=1:\",min_rslt_1.fun)\n",
    "print(\"Optimal s:\",min_rslt_1.x)\n",
    "print(\"Validation:\",decision_stump_weak_learner(min_rslt_1.x,prms1))"
   ]
  },
  {
   "cell_type": "code",
   "execution_count": 5,
   "id": "36d6293a",
   "metadata": {},
   "outputs": [
    {
     "name": "stdout",
     "output_type": "stream",
     "text": [
      "For j=2: 0.8022528160200344\n",
      "Optimal s: [0.3943783]\n"
     ]
    }
   ],
   "source": [
    "print(\"For j=2:\", min_rslt_2.fun)\n",
    "print(\"Optimal s:\", min_rslt_2.x)"
   ]
  },
  {
   "cell_type": "code",
   "execution_count": 6,
   "id": "d8fb81bc",
   "metadata": {},
   "outputs": [
    {
     "name": "stdout",
     "output_type": "stream",
     "text": [
      "0.8 > 0.29\n",
      "Optimal j: 1\n"
     ]
    }
   ],
   "source": [
    "print(\"0.8 > 0.29\")\n",
    "print(\"Optimal j: 1\")"
   ]
  },
  {
   "cell_type": "code",
   "execution_count": 10,
   "id": "df52515e",
   "metadata": {},
   "outputs": [],
   "source": [
    "def weak_learner(j,p,X_train,y_train):\n",
    "    rslts = np.zeros(j)\n",
    "    for k in range(j):\n",
    "        prms = [k, p, X_train, y_train]\n",
    "        min_rslt = minimize(decision_stump_weak_learner, np.mean(X_train),args=prms, method='Nelder-Mead')\n",
    "        rslts[k] = min_rslt.fun\n",
    "    \n",
    "    minimizer_j = np.argmin(rslts)\n",
    "    minimizer_s = min_rslt.x\n",
    "    \n",
    "    # computing return values fi_x for optimal decision stump\n",
    "    fi_x = np.zeros(np.shape(X_train)[0])\n",
    " \n",
    "    for i in range(np.shape(X_train)[0]):\n",
    "        if X_train[i,minimizer_j]<minimizer_s:\n",
    "            fi_x[i] = -1\n",
    "        else:\n",
    "            fi_x[i] = 1\n",
    "\n",
    "    return minimizer_j, minimizer_s, fi_x"
   ]
  },
  {
   "cell_type": "code",
   "execution_count": 11,
   "id": "cffea0de",
   "metadata": {},
   "outputs": [
    {
     "data": {
      "image/png": "[encoded data removed]",
      "text/plain": [
       "<Figure size 432x288 with 1 Axes>"
      ]
     },
     "metadata": {
      "needs_background": "light"
     },
     "output_type": "display_data"
    }
   ],
   "source": [
    "# Plotting the decision region of the optimal decision stump for the moons dataset when p uniform distribution\n",
    "fi_x = np.zeros(np.shape(X_tr)[0])\n",
    "for i in range(np.shape(X_tr)[0]):\n",
    "            if X_tr[i,0]<min_rslt_1.x:\n",
    "                fi_x[i] = -1\n",
    "            else:\n",
    "                fi_x[i] = 1\n",
    "                \n",
    "x = np.linspace(-2,3)\n",
    "y1 = min_rslt_2.x*np.ones(np.shape(x))             \n",
    "plt.plot(x,y1, label='Optimal decision stump')\n",
    "plt.scatter(X_tr[:,0],X_tr[:,0], c='pink', s=1, label='Data')\n",
    "plt.ylim(-2,3)\n",
    "plt.title(\"Decision Function plot\")\n",
    "plt.legend(loc='upper right')\n",
    "plt.show()"
   ]
  },
  {
   "cell_type": "code",
   "execution_count": 12,
   "id": "89630479",
   "metadata": {},
   "outputs": [
    {
     "data": {
      "text/plain": [
       "(-2.0, 3.0)"
      ]
     },
     "execution_count": 12,
     "metadata": {},
     "output_type": "execute_result"
    },
    {
     "data": {
      "image/png": "[encoded data removed]",
      "text/plain": [
       "<Figure size 432x288 with 1 Axes>"
      ]
     },
     "metadata": {
      "needs_background": "light"
     },
     "output_type": "display_data"
    }
   ],
   "source": [
    "# Scatterplot of samples and labels\n",
    "plt.scatter(X_tr[:,0],fi_x, c='purple', s=0.5)\n",
    "plt.ylabel('Label assigned')\n",
    "plt.xlabel('Value of datapoint, feature 1')\n",
    "plt.title('Samples plotted to their labels')\n",
    "plt.xlim(-2,3)"
   ]
  }
 ],
 "metadata": {
  "kernelspec": {
   "display_name": "Python 3 (ipykernel)",
   "language": "python",
   "name": "python3"
  },
  "language_info": {
   "codemirror_mode": {
    "name": "ipython",
    "version": 3
   },
   "file_extension": ".py",
   "mimetype": "text/x-python",
   "name": "python",
   "nbconvert_exporter": "python",
   "pygments_lexer": "ipython3",
   "version": "3.6.13"
  }
 },
 "nbformat": 4,
 "nbformat_minor": 5
}
